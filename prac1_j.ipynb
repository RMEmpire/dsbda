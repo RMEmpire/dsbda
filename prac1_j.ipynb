{
 "cells": [
  {
   "cell_type": "code",
   "execution_count": 3,
   "id": "99c5a548-b8ed-4a74-878e-481da089ed95",
   "metadata": {},
   "outputs": [],
   "source": [
    "# 1. Import all the required Python Libraries.\n",
    "import pandas as pd\n",
    "import numpy as np"
   ]
  },
  {
   "cell_type": "code",
   "execution_count": 5,
   "id": "4d3eb9c5-6f76-4cef-9ef1-ffe7b8699f37",
   "metadata": {},
   "outputs": [],
   "source": [
    "url = \"https://archive.ics.uci.edu/ml/machine-learning-databases/iris/iris.data\""
   ]
  },
  {
   "cell_type": "code",
   "execution_count": 7,
   "id": "c0a7c2e0-666c-455e-89f6-ac8693ec7406",
   "metadata": {},
   "outputs": [
    {
     "name": "stdout",
     "output_type": "stream",
     "text": [
      "First few rows of the Iris dataset:\n",
      "   sepal_length  sepal_width  petal_length  petal_width        class\n",
      "0           5.1          3.5           1.4          0.2  Iris-setosa\n",
      "1           4.9          3.0           1.4          0.2  Iris-setosa\n",
      "2           4.7          3.2           1.3          0.2  Iris-setosa\n",
      "3           4.6          3.1           1.5          0.2  Iris-setosa\n",
      "4           5.0          3.6           1.4          0.2  Iris-setosa\n"
     ]
    }
   ],
   "source": [
    "column_names = ['sepal_length', 'sepal_width', 'petal_length', 'petal_width', 'class']\n",
    "iris_df = pd.read_csv(url, names=column_names)# Display the first few rows of the dataset to verify the import.\n",
    "print(\"First few rows of the Iris dataset:\")\n",
    "print(iris_df.head())"
   ]
  },
  {
   "cell_type": "code",
   "execution_count": 10,
   "id": "6f2fdf3e-fbf9-465e-98be-44e930add9f1",
   "metadata": {},
   "outputs": [
    {
     "name": "stdout",
     "output_type": "stream",
     "text": [
      "\n",
      "Information about the dataset:\n",
      "<class 'pandas.core.frame.DataFrame'>\n",
      "RangeIndex: 150 entries, 0 to 149\n",
      "Data columns (total 5 columns):\n",
      " #   Column        Non-Null Count  Dtype  \n",
      "---  ------        --------------  -----  \n",
      " 0   sepal_length  150 non-null    float64\n",
      " 1   sepal_width   150 non-null    float64\n",
      " 2   petal_length  150 non-null    float64\n",
      " 3   petal_width   150 non-null    float64\n",
      " 4   class         150 non-null    object \n",
      "dtypes: float64(4), object(1)\n",
      "memory usage: 6.0+ KB\n",
      "None\n"
     ]
    }
   ],
   "source": [
    "# 4. Data Preprocessing:\n",
    "# Check for missing values using pandas info(), describe() functions.\n",
    "print(\"\\nInformation about the dataset:\")\n",
    "print(iris_df.info())"
   ]
  },
  {
   "cell_type": "code",
   "execution_count": 11,
   "id": "798bd7ff-108e-4a69-9b29-d53a071c1fd2",
   "metadata": {},
   "outputs": [
    {
     "name": "stdout",
     "output_type": "stream",
     "text": [
      "\n",
      "Descriptive statistics of the dataset:\n",
      "       sepal_length  sepal_width  petal_length  petal_width\n",
      "count    150.000000   150.000000    150.000000   150.000000\n",
      "mean       5.843333     3.054000      3.758667     1.198667\n",
      "std        0.828066     0.433594      1.764420     0.763161\n",
      "min        4.300000     2.000000      1.000000     0.100000\n",
      "25%        5.100000     2.800000      1.600000     0.300000\n",
      "50%        5.800000     3.000000      4.350000     1.300000\n",
      "75%        6.400000     3.300000      5.100000     1.800000\n",
      "max        7.900000     4.400000      6.900000     2.500000\n"
     ]
    }
   ],
   "source": [
    "print(\"\\nDescriptive statistics of the dataset:\")\n",
    "print(iris_df.describe())"
   ]
  },
  {
   "cell_type": "code",
   "execution_count": 12,
   "id": "4900d6f5-afaf-4e44-8aae-fd3fcc085cd7",
   "metadata": {},
   "outputs": [
    {
     "name": "stdout",
     "output_type": "stream",
     "text": [
      "\n",
      "Dimensions of the dataset (rows, columns): (150, 5)\n"
     ]
    }
   ],
   "source": [
    "# Variable Descriptions:\n",
    "# - Sepal Length, Sepal Width, Petal Length, Petal Width: Numeric variables.\n",
    "# - Class: Categorical variable representing the species of iris flowers.\n",
    "# Check the dimensions of the data frame.\n",
    "print(\"\\nDimensions of the dataset (rows, columns):\", iris_df.shape)"
   ]
  },
  {
   "cell_type": "code",
   "execution_count": 14,
   "id": "fbbd2d9a-29f8-478a-818a-11bdc39a93b6",
   "metadata": {},
   "outputs": [
    {
     "name": "stdout",
     "output_type": "stream",
     "text": [
      "\n",
      "Data Types of Variables:\n",
      "sepal_length    float64\n",
      "sepal_width     float64\n",
      "petal_length    float64\n",
      "petal_width     float64\n",
      "class            object\n",
      "dtype: object\n"
     ]
    }
   ],
   "source": [
    "# 5. Data Formatting and Normalization:\n",
    "# Summarize the types of variables by checking data types.\n",
    "print(\"\\nData Types of Variables:\")\n",
    "print(iris_df.dtypes)\n",
    "# Ensure that numeric variables are in the correct data type.\n",
    "# In this case, they are already in the correct data types (float64)."
   ]
  },
  {
   "cell_type": "code",
   "execution_count": 15,
   "id": "806988b1-4938-4c43-8a26-0f6d69ea847b",
   "metadata": {},
   "outputs": [
    {
     "name": "stdout",
     "output_type": "stream",
     "text": [
      "\n",
      "Updated DataFrame after one-hot encoding:\n",
      "   sepal_length  sepal_width  petal_length  petal_width  \\\n",
      "0           5.1          3.5           1.4          0.2   \n",
      "1           4.9          3.0           1.4          0.2   \n",
      "2           4.7          3.2           1.3          0.2   \n",
      "3           4.6          3.1           1.5          0.2   \n",
      "4           5.0          3.6           1.4          0.2   \n",
      "\n",
      "   class_Iris-versicolor  class_Iris-virginica  \n",
      "0                  False                 False  \n",
      "1                  False                 False  \n",
      "2                  False                 False  \n",
      "3                  False                 False  \n",
      "4                  False                 False  \n"
     ]
    }
   ],
   "source": [
    "# 6. Turn categorical variables into quantitative variables.\n",
    "# The 'class' variable is categorical; we can use one-hot encoding to convert it to quantitative.\n",
    "iris_df = pd.get_dummies(iris_df, columns=['class'], drop_first=True)# Display the updated dataframe.\n",
    "print(\"\\nUpdated DataFrame after one-hot encoding:\")\n",
    "print(iris_df.head())"
   ]
  }
 ],
 "metadata": {
  "kernelspec": {
   "display_name": "Python 3 (ipykernel)",
   "language": "python",
   "name": "python3"
  },
  "language_info": {
   "codemirror_mode": {
    "name": "ipython",
    "version": 3
   },
   "file_extension": ".py",
   "mimetype": "text/x-python",
   "name": "python",
   "nbconvert_exporter": "python",
   "pygments_lexer": "ipython3",
   "version": "3.11.7"
  }
 },
 "nbformat": 4,
 "nbformat_minor": 5
}
