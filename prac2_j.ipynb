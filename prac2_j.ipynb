{
 "cells": [
  {
   "cell_type": "code",
   "execution_count": 16,
   "id": "d0d34436-baba-4a62-802a-4106f2f61cfd",
   "metadata": {},
   "outputs": [],
   "source": [
    "# Import necessary libraries\n",
    "import pandas as pd\n",
    "import numpy as np\n",
    "import matplotlib.pyplot as plt\n",
    "import seaborn as sns"
   ]
  },
  {
   "cell_type": "code",
   "execution_count": 17,
   "id": "253d7faa-bfcc-4214-87cd-0fd667b496d6",
   "metadata": {},
   "outputs": [],
   "source": [
    "# Set a random seed for reproducibility\n",
    "np.random.seed(42)"
   ]
  },
  {
   "cell_type": "code",
   "execution_count": 27,
   "id": "f4df9c78-3116-42ba-be92-d5d9521ddf44",
   "metadata": {},
   "outputs": [],
   "source": [
    "# 1. Create the \"Academic Performance\" dataset\n",
    "data = {\n",
    "    'Student_ID': range(1, 101),\n",
    "    'Math_Score': np.random.randint(50, 100, size=100),\n",
    "    'English_Score': np.random.randint(40, 95, size=100),\n",
    "    'Science_Score': np.random.randint(55, 98, size=100),\n",
    "    'Attendance_Percentage': np.random.uniform(70, 100, size=100),\n",
    "    'Study_Hours_Per_Day': np.random.uniform(1, 6, size=100),\n",
    "}"
   ]
  },
  {
   "cell_type": "code",
   "execution_count": 29,
   "id": "55605dd7-2035-44e1-afc8-e3419245525f",
   "metadata": {},
   "outputs": [],
   "source": [
    "academic_df = pd.DataFrame(data)"
   ]
  },
  {
   "cell_type": "code",
   "execution_count": 24,
   "id": "22cfc63c-378d-43aa-8d60-1c46e8f9d163",
   "metadata": {},
   "outputs": [],
   "source": [
    "# Introduce missing values and inconsistencies for demonstration\n",
    "academic_df.loc[10:20, 'Math_Score'] = np.nan\n",
    "academic_df.loc[30:40, 'English_Score'] = np.nan\n",
    "academic_df.loc[50:60, 'Science_Score'] = np.nan\n",
    "academic_df.loc[70:80, 'Attendance_Percentage'] = np.nan"
   ]
  },
  {
   "cell_type": "code",
   "execution_count": 30,
   "id": "8512d641-21d4-411f-a180-4e55865fef5b",
   "metadata": {},
   "outputs": [
    {
     "name": "stdout",
     "output_type": "stream",
     "text": [
      "First few rows of the Academic Performance dataset:\n",
      "    Student_ID  Math_Score  English_Score  Science_Score  \\\n",
      "0            1          58             49             79   \n",
      "1            2          78             49             93   \n",
      "2            3          63             58             63   \n",
      "3            4          89             85             76   \n",
      "4            5          90             73             97   \n",
      "5            6          71             72             58   \n",
      "6            7          60             62             80   \n",
      "7            8          72             94             83   \n",
      "8            9          50             67             88   \n",
      "9           10          95             71             77   \n",
      "10          11          86             89             91   \n",
      "11          12          70             46             65   \n",
      "12          13          75             68             60   \n",
      "13          14          95             47             72   \n",
      "14          15          85             40             75   \n",
      "\n",
      "    Attendance_Percentage  Study_Hours_Per_Day  \n",
      "0               94.196834             5.974539  \n",
      "1               89.763501             1.869476  \n",
      "2               90.768297             2.981210  \n",
      "3               95.475870             4.791192  \n",
      "4               77.490040             4.480103  \n",
      "5               84.682749             1.769480  \n",
      "6               76.636283             5.079166  \n",
      "7               99.630040             2.122203  \n",
      "8               98.321780             2.119088  \n",
      "9               71.182804             3.684872  \n",
      "10              91.167255             3.964700  \n",
      "11              97.757450             3.900431  \n",
      "12              75.417260             1.457434  \n",
      "13              87.038357             5.387304  \n",
      "14              97.464649             2.328000  \n"
     ]
    }
   ],
   "source": [
    "# Display first few rows of the dataset\n",
    "print(\"First few rows of the Academic Performance dataset:\")\n",
    "print(academic_df.head(15))"
   ]
  },
  {
   "cell_type": "code",
   "execution_count": 31,
   "id": "43e16798-fa51-4aff-b0d3-81e38584a634",
   "metadata": {},
   "outputs": [],
   "source": [
    "# 1. Scan all variables for missing values and inconsistencies\n",
    "# Use mean imputation for missing values and replace any negative values with NaN\n",
    "academic_df.fillna(academic_df.mean(), inplace=True)\n",
    "academic_df[academic_df < 0] = np.nan"
   ]
  },
  {
   "cell_type": "code",
   "execution_count": 32,
   "id": "b3e375a6-7d1a-4a5a-803a-460e74523981",
   "metadata": {},
   "outputs": [
    {
     "name": "stdout",
     "output_type": "stream",
     "text": [
      "\n",
      "Updated dataset after handling missing values and inconsistencies:\n",
      "    Student_ID  Math_Score  English_Score  Science_Score  \\\n",
      "0            1          58             49             79   \n",
      "1            2          78             49             93   \n",
      "2            3          63             58             63   \n",
      "3            4          89             85             76   \n",
      "4            5          90             73             97   \n",
      "5            6          71             72             58   \n",
      "6            7          60             62             80   \n",
      "7            8          72             94             83   \n",
      "8            9          50             67             88   \n",
      "9           10          95             71             77   \n",
      "10          11          86             89             91   \n",
      "11          12          70             46             65   \n",
      "12          13          75             68             60   \n",
      "13          14          95             47             72   \n",
      "14          15          85             40             75   \n",
      "\n",
      "    Attendance_Percentage  Study_Hours_Per_Day  \n",
      "0               94.196834             5.974539  \n",
      "1               89.763501             1.869476  \n",
      "2               90.768297             2.981210  \n",
      "3               95.475870             4.791192  \n",
      "4               77.490040             4.480103  \n",
      "5               84.682749             1.769480  \n",
      "6               76.636283             5.079166  \n",
      "7               99.630040             2.122203  \n",
      "8               98.321780             2.119088  \n",
      "9               71.182804             3.684872  \n",
      "10              91.167255             3.964700  \n",
      "11              97.757450             3.900431  \n",
      "12              75.417260             1.457434  \n",
      "13              87.038357             5.387304  \n",
      "14              97.464649             2.328000  \n"
     ]
    }
   ],
   "source": [
    "# Display the updated dataset after handling missing values and inconsistencies\n",
    "print(\"\\nUpdated dataset after handling missing values and inconsistencies:\")\n",
    "print(academic_df.head(15))"
   ]
  },
  {
   "cell_type": "code",
   "execution_count": null,
   "id": "00b9506e-d2c4-48e8-882a-7d0ad2e9540a",
   "metadata": {},
   "outputs": [],
   "source": []
  }
 ],
 "metadata": {
  "kernelspec": {
   "display_name": "Python 3 (ipykernel)",
   "language": "python",
   "name": "python3"
  },
  "language_info": {
   "codemirror_mode": {
    "name": "ipython",
    "version": 3
   },
   "file_extension": ".py",
   "mimetype": "text/x-python",
   "name": "python",
   "nbconvert_exporter": "python",
   "pygments_lexer": "ipython3",
   "version": "3.11.7"
  }
 },
 "nbformat": 4,
 "nbformat_minor": 5
}
