{
 "cells": [
  {
   "cell_type": "code",
   "execution_count": 102,
   "id": "f1d76e2a-437d-48f0-bf08-c382b387de56",
   "metadata": {},
   "outputs": [],
   "source": [
    "import nltk\n",
    "from nltk.corpus import stopwords\n",
    "from nltk.tokenize import word_tokenize\n",
    "from nltk.stem import PorterStemmer, WordNetLemmatizer\n",
    "from nltk.probability import FreqDist\n",
    "from nltk.tag import pos_tag\n",
    "from nltk.tokenize import sent_tokenize\n",
    "from sklearn.feature_extraction.text import TfidfVectorizer"
   ]
  },
  {
   "cell_type": "code",
   "execution_count": 103,
   "id": "db01a24a-3301-403a-a658-71d2ae4bb831",
   "metadata": {},
   "outputs": [
    {
     "name": "stderr",
     "output_type": "stream",
     "text": [
      "[nltk_data] Downloading package punkt to\n",
      "[nltk_data]     C:\\Users\\rugve\\AppData\\Roaming\\nltk_data...\n",
      "[nltk_data]   Unzipping tokenizers\\punkt.zip.\n",
      "[nltk_data] Downloading package stopwords to\n",
      "[nltk_data]     C:\\Users\\rugve\\AppData\\Roaming\\nltk_data...\n",
      "[nltk_data]   Unzipping corpora\\stopwords.zip.\n",
      "[nltk_data] Downloading package averaged_perceptron_tagger to\n",
      "[nltk_data]     C:\\Users\\rugve\\AppData\\Roaming\\nltk_data...\n",
      "[nltk_data]   Unzipping taggers\\averaged_perceptron_tagger.zip.\n",
      "[nltk_data] Downloading package wordnet to\n",
      "[nltk_data]     C:\\Users\\rugve\\AppData\\Roaming\\nltk_data...\n"
     ]
    },
    {
     "data": {
      "text/plain": [
       "True"
      ]
     },
     "execution_count": 103,
     "metadata": {},
     "output_type": "execute_result"
    }
   ],
   "source": [
    "nltk.download('punkt')\n",
    "nltk.download('stopwords')\n",
    "nltk.download('averaged_perceptron_tagger')\n",
    "nltk.download('wordnet')"
   ]
  },
  {
   "cell_type": "code",
   "execution_count": 104,
   "id": "962cf54d-b1df-411d-adb9-af8cfd14df45",
   "metadata": {},
   "outputs": [],
   "source": [
    "# Sample document\n",
    "sample_document = \"\"\"Natural language processing (NLP) is a subfield of artificial intelligence (AI) that focuses on the interaction between computers and humans using natural language. It enables computers to understand, interpret, and generate human-like text. NLP involves various tasks, such as tokenization, part-of-speech tagging, stop words removal, stemming, and lemmatization.\"\"\""
   ]
  },
  {
   "cell_type": "code",
   "execution_count": 105,
   "id": "b99af38b-c86c-4e94-b0f6-7a80b888c231",
   "metadata": {},
   "outputs": [],
   "source": [
    "# Tokenization\n",
    "tokens = word_tokenize(sample_document)"
   ]
  },
  {
   "cell_type": "code",
   "execution_count": 106,
   "id": "ea13fd0c-5d40-4879-aab7-7305a74ca011",
   "metadata": {},
   "outputs": [],
   "source": [
    "# POS Tagging\n",
    "pos_tags = pos_tag(tokens)"
   ]
  },
  {
   "cell_type": "code",
   "execution_count": 107,
   "id": "53b908e0-0c5d-431e-b28a-0940bd3deb57",
   "metadata": {},
   "outputs": [],
   "source": [
    "# Stop Words Removal\n",
    "stop_words = set(stopwords.words('english'))\n",
    "filtered_tokens = [word for word in tokens if word.lower() not in stop_words]"
   ]
  },
  {
   "cell_type": "code",
   "execution_count": 108,
   "id": "af57f581-aa44-484d-b84c-6b166f44e2d0",
   "metadata": {},
   "outputs": [],
   "source": [
    "# Stemming\n",
    "porter_stemmer = PorterStemmer()\n",
    "stemmed_tokens = [porter_stemmer.stem(word) for word in filtered_tokens]"
   ]
  },
  {
   "cell_type": "code",
   "execution_count": 109,
   "id": "4c7dd058-cd04-4a71-b3b3-7ad06280b5a1",
   "metadata": {},
   "outputs": [],
   "source": [
    "# Lemmatization\n",
    "lemmatizer = WordNetLemmatizer()\n",
    "lemmatized_tokens = [lemmatizer.lemmatize(word) for word in filtered_tokens]"
   ]
  },
  {
   "cell_type": "code",
   "execution_count": 110,
   "id": "6a1c5563-eb71-4de5-86b0-af2e2f57992c",
   "metadata": {},
   "outputs": [],
   "source": [
    "# TF-IDF Representation\n",
    "documents = [sample_document]\n",
    "tfidf_vectorizer = TfidfVectorizer()\n",
    "tfidf_matrix = tfidf_vectorizer.fit_transform(documents)\n",
    "feature_names = tfidf_vectorizer.get_feature_names_out()"
   ]
  },
  {
   "cell_type": "code",
   "execution_count": 111,
   "id": "2473fd3c-2191-436d-9d43-8d2a3ef65a77",
   "metadata": {},
   "outputs": [
    {
     "name": "stdout",
     "output_type": "stream",
     "text": [
      "Original Document:\n",
      " Natural language processing (NLP) is a subfield of artificial intelligence (AI) that focuses on the interaction between computers and humans using natural language. It enables computers to understand, interpret, and generate human-like text. NLP involves various tasks, such as tokenization, part-of-speech tagging, stop words removal, stemming, and lemmatization. \n",
      "\n",
      "Tokenization:\n",
      " ['Natural', 'language', 'processing', '(', 'NLP', ')', 'is', 'a', 'subfield', 'of', 'artificial', 'intelligence', '(', 'AI', ')', 'that', 'focuses', 'on', 'the', 'interaction', 'between', 'computers', 'and', 'humans', 'using', 'natural', 'language', '.', 'It', 'enables', 'computers', 'to', 'understand', ',', 'interpret', ',', 'and', 'generate', 'human-like', 'text', '.', 'NLP', 'involves', 'various', 'tasks', ',', 'such', 'as', 'tokenization', ',', 'part-of-speech', 'tagging', ',', 'stop', 'words', 'removal', ',', 'stemming', ',', 'and', 'lemmatization', '.'] \n",
      "\n",
      "POS Tagging:\n",
      " [('Natural', 'JJ'), ('language', 'NN'), ('processing', 'NN'), ('(', '('), ('NLP', 'NNP'), (')', ')'), ('is', 'VBZ'), ('a', 'DT'), ('subfield', 'NN'), ('of', 'IN'), ('artificial', 'JJ'), ('intelligence', 'NN'), ('(', '('), ('AI', 'NNP'), (')', ')'), ('that', 'WDT'), ('focuses', 'VBZ'), ('on', 'IN'), ('the', 'DT'), ('interaction', 'NN'), ('between', 'IN'), ('computers', 'NNS'), ('and', 'CC'), ('humans', 'NNS'), ('using', 'VBG'), ('natural', 'JJ'), ('language', 'NN'), ('.', '.'), ('It', 'PRP'), ('enables', 'VBZ'), ('computers', 'NNS'), ('to', 'TO'), ('understand', 'VB'), (',', ','), ('interpret', 'VB'), (',', ','), ('and', 'CC'), ('generate', 'VB'), ('human-like', 'JJ'), ('text', 'NN'), ('.', '.'), ('NLP', 'NNP'), ('involves', 'VBZ'), ('various', 'JJ'), ('tasks', 'NNS'), (',', ','), ('such', 'JJ'), ('as', 'IN'), ('tokenization', 'NN'), (',', ','), ('part-of-speech', 'JJ'), ('tagging', 'NN'), (',', ','), ('stop', 'VB'), ('words', 'NNS'), ('removal', 'JJ'), (',', ','), ('stemming', 'VBG'), (',', ','), ('and', 'CC'), ('lemmatization', 'NN'), ('.', '.')] \n",
      "\n",
      "Stop Words Removal:\n",
      " ['Natural', 'language', 'processing', '(', 'NLP', ')', 'subfield', 'artificial', 'intelligence', '(', 'AI', ')', 'focuses', 'interaction', 'computers', 'humans', 'using', 'natural', 'language', '.', 'enables', 'computers', 'understand', ',', 'interpret', ',', 'generate', 'human-like', 'text', '.', 'NLP', 'involves', 'various', 'tasks', ',', 'tokenization', ',', 'part-of-speech', 'tagging', ',', 'stop', 'words', 'removal', ',', 'stemming', ',', 'lemmatization', '.'] \n",
      "\n",
      "Stemming:\n",
      " ['natur', 'languag', 'process', '(', 'nlp', ')', 'subfield', 'artifici', 'intellig', '(', 'ai', ')', 'focus', 'interact', 'comput', 'human', 'use', 'natur', 'languag', '.', 'enabl', 'comput', 'understand', ',', 'interpret', ',', 'gener', 'human-lik', 'text', '.', 'nlp', 'involv', 'variou', 'task', ',', 'token', ',', 'part-of-speech', 'tag', ',', 'stop', 'word', 'remov', ',', 'stem', ',', 'lemmat', '.'] \n",
      "\n",
      "Lemmatization:\n",
      " ['Natural', 'language', 'processing', '(', 'NLP', ')', 'subfield', 'artificial', 'intelligence', '(', 'AI', ')', 'focus', 'interaction', 'computer', 'human', 'using', 'natural', 'language', '.', 'enables', 'computer', 'understand', ',', 'interpret', ',', 'generate', 'human-like', 'text', '.', 'NLP', 'involves', 'various', 'task', ',', 'tokenization', ',', 'part-of-speech', 'tagging', ',', 'stop', 'word', 'removal', ',', 'stemming', ',', 'lemmatization', '.'] \n",
      "\n",
      "TF-IDF Representation:\n",
      " [[0.12309149 0.36927447 0.12309149 0.12309149 0.12309149 0.24618298\n",
      "  0.12309149 0.12309149 0.12309149 0.12309149 0.12309149 0.12309149\n",
      "  0.12309149 0.12309149 0.12309149 0.12309149 0.12309149 0.24618298\n",
      "  0.12309149 0.12309149 0.24618298 0.24618298 0.24618298 0.12309149\n",
      "  0.12309149 0.12309149 0.12309149 0.12309149 0.12309149 0.12309149\n",
      "  0.12309149 0.12309149 0.12309149 0.12309149 0.12309149 0.12309149\n",
      "  0.12309149 0.12309149 0.12309149 0.12309149 0.12309149 0.12309149\n",
      "  0.12309149]] \n",
      "\n",
      "Feature Names:\n",
      " ['ai' 'and' 'artificial' 'as' 'between' 'computers' 'enables' 'focuses'\n",
      " 'generate' 'human' 'humans' 'intelligence' 'interaction' 'interpret'\n",
      " 'involves' 'is' 'it' 'language' 'lemmatization' 'like' 'natural' 'nlp'\n",
      " 'of' 'on' 'part' 'processing' 'removal' 'speech' 'stemming' 'stop'\n",
      " 'subfield' 'such' 'tagging' 'tasks' 'text' 'that' 'the' 'to'\n",
      " 'tokenization' 'understand' 'using' 'various' 'words']\n"
     ]
    }
   ],
   "source": [
    "# Display Results\n",
    "print(\"Original Document:\\n\", sample_document, \"\\n\")\n",
    "print(\"Tokenization:\\n\", tokens, \"\\n\")\n",
    "print(\"POS Tagging:\\n\", pos_tags, \"\\n\")\n",
    "print(\"Stop Words Removal:\\n\", filtered_tokens, \"\\n\")\n",
    "print(\"Stemming:\\n\", stemmed_tokens, \"\\n\")\n",
    "print(\"Lemmatization:\\n\", lemmatized_tokens, \"\\n\")\n",
    "print(\"TF-IDF Representation:\\n\", tfidf_matrix.toarray(), \"\\n\")\n",
    "print(\"Feature Names:\\n\", feature_names)\n"
   ]
  },
  {
   "cell_type": "code",
   "execution_count": null,
   "id": "636bb87b-791e-4f56-949f-ff40b12605ed",
   "metadata": {},
   "outputs": [],
   "source": []
  }
 ],
 "metadata": {
  "kernelspec": {
   "display_name": "Python 3 (ipykernel)",
   "language": "python",
   "name": "python3"
  },
  "language_info": {
   "codemirror_mode": {
    "name": "ipython",
    "version": 3
   },
   "file_extension": ".py",
   "mimetype": "text/x-python",
   "name": "python",
   "nbconvert_exporter": "python",
   "pygments_lexer": "ipython3",
   "version": "3.11.7"
  }
 },
 "nbformat": 4,
 "nbformat_minor": 5
}
