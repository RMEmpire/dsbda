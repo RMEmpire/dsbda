{
 "cells": [
  {
   "cell_type": "code",
   "execution_count": 56,
   "id": "8222081a-da80-4257-9806-f679ae465302",
   "metadata": {},
   "outputs": [],
   "source": [
    "import pandas as pd\n",
    "from sklearn.model_selection import train_test_split\n",
    "from sklearn.linear_model import LinearRegression\n",
    "from sklearn.metrics import mean_squared_error, r2_score\n",
    "import matplotlib.pyplot as plt"
   ]
  },
  {
   "cell_type": "code",
   "execution_count": 58,
   "id": "9fc6f468-f14e-4249-8e9b-cab86df024ba",
   "metadata": {},
   "outputs": [],
   "source": [
    "# Load the Boston Housing Dataset\n",
    "boston_data = pd.read_csv('train.csv')"
   ]
  },
  {
   "cell_type": "code",
   "execution_count": 59,
   "id": "9a6ab04a-ec35-4a51-92d2-cc462908fe20",
   "metadata": {},
   "outputs": [
    {
     "name": "stdout",
     "output_type": "stream",
     "text": [
      "   ID     crim    zn  indus  chas    nox     rm   age     dis  rad  tax  \\\n",
      "0   1  0.00632  18.0   2.31     0  0.538  6.575  65.2  4.0900    1  296   \n",
      "1   2  0.02731   0.0   7.07     0  0.469  6.421  78.9  4.9671    2  242   \n",
      "2   4  0.03237   0.0   2.18     0  0.458  6.998  45.8  6.0622    3  222   \n",
      "3   5  0.06905   0.0   2.18     0  0.458  7.147  54.2  6.0622    3  222   \n",
      "4   7  0.08829  12.5   7.87     0  0.524  6.012  66.6  5.5605    5  311   \n",
      "\n",
      "   ptratio   black  lstat  medv  \n",
      "0     15.3  396.90   4.98  24.0  \n",
      "1     17.8  396.90   9.14  21.6  \n",
      "2     18.7  394.63   2.94  33.4  \n",
      "3     18.7  396.90   5.33  36.2  \n",
      "4     15.2  395.60  12.43  22.9  \n"
     ]
    }
   ],
   "source": [
    "# Explore the dataset\n",
    "print(boston_data.head())"
   ]
  },
  {
   "cell_type": "code",
   "execution_count": 60,
   "id": "7d6dc0db-8244-4d7f-8944-e1cc13066595",
   "metadata": {},
   "outputs": [],
   "source": [
    "# Separate features (X) and target variable (y)\n",
    "X = boston_data.drop(['ID', 'indus'], axis=1)\n",
    "y = boston_data['indus']"
   ]
  },
  {
   "cell_type": "code",
   "execution_count": null,
   "id": "2af80247-1228-4799-ac3d-ed892b035277",
   "metadata": {},
   "outputs": [],
   "source": [
    "# Split the data into training and testing sets\n",
    "X_train, X_test, y_train, y_test = train_test_split(X, y, test_size=0.2, random_state=42)"
   ]
  }
 ],
 "metadata": {
  "kernelspec": {
   "display_name": "Python 3 (ipykernel)",
   "language": "python",
   "name": "python3"
  },
  "language_info": {
   "codemirror_mode": {
    "name": "ipython",
    "version": 3
   },
   "file_extension": ".py",
   "mimetype": "text/x-python",
   "name": "python",
   "nbconvert_exporter": "python",
   "pygments_lexer": "ipython3",
   "version": "3.11.7"
  }
 },
 "nbformat": 4,
 "nbformat_minor": 5
}
