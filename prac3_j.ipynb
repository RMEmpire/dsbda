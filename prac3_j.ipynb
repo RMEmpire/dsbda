{
 "cells": [
  {
   "cell_type": "code",
   "execution_count": 44,
   "id": "7c3a0e76-e48e-47a1-a7ca-8746c4be87ac",
   "metadata": {},
   "outputs": [],
   "source": [
    "import pandas as pd"
   ]
  },
  {
   "cell_type": "code",
   "execution_count": 45,
   "id": "8b3d264d-df89-49ef-8a75-0fa1a5835aff",
   "metadata": {},
   "outputs": [],
   "source": [
    "titanic_df = pd.read_csv('https://raw.githubusercontent.com/datasciencedojo/datasets/master/titanic.csv')"
   ]
  },
  {
   "cell_type": "code",
   "execution_count": 46,
   "id": "04f6a10f-941f-43f3-a16b-ca0fecad6bfa",
   "metadata": {},
   "outputs": [
    {
     "name": "stdout",
     "output_type": "stream",
     "text": [
      "First few rows of the Titanic dataset:\n",
      "   PassengerId  Survived  Pclass  \\\n",
      "0            1         0       3   \n",
      "1            2         1       1   \n",
      "2            3         1       3   \n",
      "3            4         1       1   \n",
      "4            5         0       3   \n",
      "\n",
      "                                                Name     Sex   Age  SibSp  \\\n",
      "0                            Braund, Mr. Owen Harris    male  22.0      1   \n",
      "1  Cumings, Mrs. John Bradley (Florence Briggs Th...  female  38.0      1   \n",
      "2                             Heikkinen, Miss. Laina  female  26.0      0   \n",
      "3       Futrelle, Mrs. Jacques Heath (Lily May Peel)  female  35.0      1   \n",
      "4                           Allen, Mr. William Henry    male  35.0      0   \n",
      "\n",
      "   Parch            Ticket     Fare Cabin Embarked  \n",
      "0      0         A/5 21171   7.2500   NaN        S  \n",
      "1      0          PC 17599  71.2833   C85        C  \n",
      "2      0  STON/O2. 3101282   7.9250   NaN        S  \n",
      "3      0            113803  53.1000  C123        S  \n",
      "4      0            373450   8.0500   NaN        S  \n"
     ]
    }
   ],
   "source": [
    "print(\"First few rows of the Titanic dataset:\")\n",
    "print(titanic_df.head())"
   ]
  },
  {
   "cell_type": "code",
   "execution_count": 47,
   "id": "99558ac7-c48d-4d04-9934-b8a3ea1f5fd6",
   "metadata": {},
   "outputs": [],
   "source": [
    "grouped_stats = titanic_df.groupby('Pclass')['Age'].describe()"
   ]
  },
  {
   "cell_type": "code",
   "execution_count": 48,
   "id": "f31a8040-2821-403c-9047-dc55d1b20c2d",
   "metadata": {},
   "outputs": [
    {
     "name": "stdout",
     "output_type": "stream",
     "text": [
      "\n",
      "Summary statistics of Age grouped by Pclass:\n",
      "        count       mean        std   min   25%   50%   75%   max\n",
      "Pclass                                                           \n",
      "1       186.0  38.233441  14.802856  0.92  27.0  37.0  49.0  80.0\n",
      "2       173.0  29.877630  14.001077  0.67  23.0  29.0  36.0  70.0\n",
      "3       355.0  25.140620  12.495398  0.42  18.0  24.0  32.0  74.0\n"
     ]
    }
   ],
   "source": [
    "print(\"\\nSummary statistics of Age grouped by Pclass:\")\n",
    "print(grouped_stats)"
   ]
  },
  {
   "cell_type": "code",
   "execution_count": 49,
   "id": "dcec686e-a25c-4917-ae70-7b675c3b71a6",
   "metadata": {},
   "outputs": [],
   "source": [
    "mean_age_by_class = titanic_df.groupby('Pclass')['Age'].mean().tolist()"
   ]
  },
  {
   "cell_type": "code",
   "execution_count": 50,
   "id": "4db62e6d-2b45-42a0-a69c-87efd58036f5",
   "metadata": {},
   "outputs": [
    {
     "name": "stdout",
     "output_type": "stream",
     "text": [
      "\n",
      "Mean Age for each Passenger Class:\n",
      "[38.233440860215055, 29.87763005780347, 25.14061971830986]\n"
     ]
    }
   ],
   "source": [
    "print(\"\\nMean Age for each Passenger Class:\")\n",
    "print(mean_age_by_class)"
   ]
  },
  {
   "cell_type": "code",
   "execution_count": 51,
   "id": "ab87c1d9-b6b1-449d-9a6a-a34c97ca8d7e",
   "metadata": {},
   "outputs": [],
   "source": [
    "import seaborn as sns\n",
    "import pandas as pd"
   ]
  },
  {
   "cell_type": "code",
   "execution_count": 52,
   "id": "d9b9ccf8-36a2-4977-9d7e-850e81769938",
   "metadata": {},
   "outputs": [],
   "source": [
    "iris = sns.load_dataset('iris')"
   ]
  },
  {
   "cell_type": "code",
   "execution_count": 53,
   "id": "68758c84-6711-4be4-801e-421459f820fe",
   "metadata": {},
   "outputs": [
    {
     "name": "stdout",
     "output_type": "stream",
     "text": [
      "First few rows of the Iris dataset:\n",
      "   sepal_length  sepal_width  petal_length  petal_width species\n",
      "0           5.1          3.5           1.4          0.2  setosa\n",
      "1           4.9          3.0           1.4          0.2  setosa\n",
      "2           4.7          3.2           1.3          0.2  setosa\n",
      "3           4.6          3.1           1.5          0.2  setosa\n",
      "4           5.0          3.6           1.4          0.2  setosa\n"
     ]
    }
   ],
   "source": [
    "print(\"First few rows of the Iris dataset:\")\n",
    "print(iris.head())"
   ]
  },
  {
   "cell_type": "code",
   "execution_count": 54,
   "id": "069c93bb-bf99-4761-88a6-69af617d5280",
   "metadata": {},
   "outputs": [],
   "source": [
    "setosa_stats = iris[iris['species'] == 'setosa'].describe()"
   ]
  },
  {
   "cell_type": "code",
   "execution_count": 55,
   "id": "6414f6db-f80d-4b90-943d-c56f6980fa9e",
   "metadata": {},
   "outputs": [
    {
     "name": "stdout",
     "output_type": "stream",
     "text": [
      "\n",
      "Statistical details for 'Iris-setosa':\n",
      "       sepal_length  sepal_width  petal_length  petal_width\n",
      "count      50.00000    50.000000     50.000000    50.000000\n",
      "mean        5.00600     3.428000      1.462000     0.246000\n",
      "std         0.35249     0.379064      0.173664     0.105386\n",
      "min         4.30000     2.300000      1.000000     0.100000\n",
      "25%         4.80000     3.200000      1.400000     0.200000\n",
      "50%         5.00000     3.400000      1.500000     0.200000\n",
      "75%         5.20000     3.675000      1.575000     0.300000\n",
      "max         5.80000     4.400000      1.900000     0.600000\n"
     ]
    }
   ],
   "source": [
    "print(\"\\nStatistical details for 'Iris-setosa':\")\n",
    "print(setosa_stats)"
   ]
  },
  {
   "cell_type": "code",
   "execution_count": 56,
   "id": "b2fbc917-a0dd-457b-9955-935f5364e502",
   "metadata": {},
   "outputs": [],
   "source": [
    "versicolor_stats = iris[iris['species'] == 'versicolor'].describe()"
   ]
  },
  {
   "cell_type": "code",
   "execution_count": 57,
   "id": "8a2ba57f-170b-4431-a7f0-5fea9120eb9f",
   "metadata": {},
   "outputs": [
    {
     "name": "stdout",
     "output_type": "stream",
     "text": [
      "\n",
      "Statistical details for 'Iris-versicolor':\n",
      "       sepal_length  sepal_width  petal_length  petal_width\n",
      "count     50.000000    50.000000     50.000000    50.000000\n",
      "mean       5.936000     2.770000      4.260000     1.326000\n",
      "std        0.516171     0.313798      0.469911     0.197753\n",
      "min        4.900000     2.000000      3.000000     1.000000\n",
      "25%        5.600000     2.525000      4.000000     1.200000\n",
      "50%        5.900000     2.800000      4.350000     1.300000\n",
      "75%        6.300000     3.000000      4.600000     1.500000\n",
      "max        7.000000     3.400000      5.100000     1.800000\n"
     ]
    }
   ],
   "source": [
    "print(\"\\nStatistical details for 'Iris-versicolor':\")\n",
    "print(versicolor_stats)"
   ]
  },
  {
   "cell_type": "code",
   "execution_count": 58,
   "id": "39c23377-e288-4ea8-abd4-d8f4389afdc1",
   "metadata": {},
   "outputs": [],
   "source": [
    "virginica_stats = iris[iris['species'] == 'virginica'].describe()"
   ]
  },
  {
   "cell_type": "code",
   "execution_count": 59,
   "id": "09145fc8-40a4-4a9a-967c-8feec1967371",
   "metadata": {},
   "outputs": [
    {
     "name": "stdout",
     "output_type": "stream",
     "text": [
      "\n",
      "Statistical details for 'Iris-virginica':\n",
      "       sepal_length  sepal_width  petal_length  petal_width\n",
      "count      50.00000    50.000000     50.000000     50.00000\n",
      "mean        6.58800     2.974000      5.552000      2.02600\n",
      "std         0.63588     0.322497      0.551895      0.27465\n",
      "min         4.90000     2.200000      4.500000      1.40000\n",
      "25%         6.22500     2.800000      5.100000      1.80000\n",
      "50%         6.50000     3.000000      5.550000      2.00000\n",
      "75%         6.90000     3.175000      5.875000      2.30000\n",
      "max         7.90000     3.800000      6.900000      2.50000\n"
     ]
    }
   ],
   "source": [
    "print(\"\\nStatistical details for 'Iris-virginica':\")\n",
    "print(virginica_stats)"
   ]
  },
  {
   "cell_type": "code",
   "execution_count": null,
   "id": "c8ca2608-d1c2-450a-a3a0-1fa75d9d58c3",
   "metadata": {},
   "outputs": [],
   "source": []
  }
 ],
 "metadata": {
  "kernelspec": {
   "display_name": "Python 3 (ipykernel)",
   "language": "python",
   "name": "python3"
  },
  "language_info": {
   "codemirror_mode": {
    "name": "ipython",
    "version": 3
   },
   "file_extension": ".py",
   "mimetype": "text/x-python",
   "name": "python",
   "nbconvert_exporter": "python",
   "pygments_lexer": "ipython3",
   "version": "3.11.7"
  }
 },
 "nbformat": 4,
 "nbformat_minor": 5
}
